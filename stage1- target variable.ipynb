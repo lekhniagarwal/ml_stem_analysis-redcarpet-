{
 "cells": [
  {
   "cell_type": "markdown",
   "metadata": {},
   "source": [
    "# % growth of funding between year 2008 & 2009 & Target Variable"
   ]
  },
  {
   "cell_type": "code",
   "execution_count": null,
   "metadata": {},
   "outputs": [],
   "source": [
    "import pandas as pd\n",
    "import math\n",
    "df=pd.read_excel('G:/redcarpet/datamodified.xls') \n",
    "\n",
    "#print(isinstance(df.iloc[14,6], str))#check if it is a string '-'\n",
    "#print(math.isnan(df.iloc[59,6]))#check if it is a nan\n",
    "#print(df.iloc[59,6]==\"\")\n",
    "\n",
    "\n",
    "z=[]\n",
    "g=[]\n",
    "d=pd.DataFrame(columns=['target'])\n",
    "d1=pd.DataFrame(columns=['growth'])\n",
    "for i in range(0,253):\n",
    "    if (isinstance(df.iloc[i,6], str) or isinstance(df.iloc[i,7], str) or math.isnan(df.iloc[i,6]) or math.isnan(df.iloc[i,7])):\n",
    "        diff=0\n",
    "        diff1=0\n",
    "    else:\n",
    "        diff=((df.iloc[i,7]-df.iloc[i,6])/df.iloc[i,6])*100\n",
    "        diff1=diff\n",
    "        if(diff>=0):\n",
    "            diff=1\n",
    "        else:\n",
    "            diff=0\n",
    "    z.append(diff)\n",
    "    g.append(diff1)\n",
    "    \n",
    "\n",
    "d= d.append(list(z), ignore_index=True)\n",
    "d1= d1.append(list(g), ignore_index=True)\n",
    "d.to_csv(\"G:/redcarpet/target.csv\")\n",
    "d1.to_csv(\"G:/redcarpet/growth.csv\")\n",
    "print(\"done\")\n",
    "#it has 39 null rows out of 253 and we have put 0 in that\n",
    "    \n",
    "    \n"
   ]
  },
  {
   "cell_type": "markdown",
   "metadata": {},
   "source": [
    "# Label Encoding"
   ]
  },
  {
   "cell_type": "code",
   "execution_count": 32,
   "metadata": {},
   "outputs": [
    {
     "name": "stdout",
     "output_type": "stream",
     "text": [
      "[0 1 2]\n"
     ]
    },
    {
     "data": {
      "text/plain": [
       "array(['a', 'b', 'c'], dtype='<U1')"
      ]
     },
     "execution_count": 32,
     "metadata": {},
     "output_type": "execute_result"
    }
   ],
   "source": [
    "#label encoding\n",
    "import pandas as pd\n",
    "import math\n",
    "df=pd.read_excel('G:/redcarpet/datamodified.xls') \n",
    "from sklearn.preprocessing import LabelEncoder\n",
    "num=LabelEncoder()\n",
    "num.fit([\"c\",\"b\",\"c\",\"a\",\"c\",\"c\",\"b\",\"b\"])\n",
    "print(num.fit_transform([\"a\",\"b\",\"c\"]))\n",
    "\n",
    "num.classes_"
   ]
  },
  {
   "cell_type": "code",
   "execution_count": 73,
   "metadata": {},
   "outputs": [
    {
     "name": "stdout",
     "output_type": "stream",
     "text": [
      "[1, 2, 2, 3, 4, 3, 1, 2]\n"
     ]
    }
   ],
   "source": [
    "\n",
    "def label_encoding(z):\n",
    "    a = {'col1': z}\n",
    "    new_df = pd.DataFrame(data=a)\n",
    "    t_u = new_df['col1'].unique()\n",
    "    l = len(t_u)\n",
    "    new_label = []\n",
    "    for i in range(1,l+1):\n",
    "        new_label.append(i)\n",
    "    for i in range(0,l):\n",
    "        new_df.iloc[list(new_df['col1'] == t_u[i]),0]= new_label[i]\n",
    "    z_new = list(new_df['col1'])   \n",
    "    return z_new\n",
    "z = [\"mango\",\"egg\",\"egg\",\"apple\",\"orange\",\"apple\",\"mango\",\"egg\"]\n",
    "l= label_encoding(z)\n",
    "print(l)\n",
    "\n"
   ]
  },
  {
   "cell_type": "code",
   "execution_count": null,
   "metadata": {},
   "outputs": [],
   "source": [
    "from sklearn.preprocessing import LabelEncoder\n",
    "import pandas as pd\n",
    "import math\n",
    "num=LabelEncoder()\n",
    "df=pd.read_excel(\"G:/redcarpet/datamodified.xls\") \n",
    "g=df.columns.values\n",
    "\n",
    "for i in range(0,253):\n",
    "    #print(i)\n",
    "    if(isinstance(df['Agency'][i], str)):\n",
    "        continue\n",
    "    elif (math.isnan(df['Agency'][i])):\n",
    "        df['Agency'][i]=\"\"\n",
    "\n",
    "df['Agency']=num.fit_transform(df['Agency'].astype('str'))\n",
    "        \n",
    "\n",
    "for i in range(0,253):\n",
    "    #print(i)\n",
    "    if(isinstance(df['Subagency'][i], str)):\n",
    "        continue\n",
    "    elif (math.isnan(df['Subagency'][i])):\n",
    "        df['Subagency'][i]=\"\"\n",
    "        \n",
    "df['Subagency']=num.fit_transform(df['Subagency'].astype('str'))\n",
    "        \n",
    "for i in range(9,256):\n",
    "    print(i)\n",
    "    if()\n",
    "    for j in range(0,253):\n",
    "        if(isinstance(df[g[i]][j], str)):\n",
    "            continue\n",
    "        elif (math.isnan(df[g[i]][j])):\n",
    "            df[g[i]][j]=\"\"\n",
    "    df[g[i]]=num.fit_transform(df[g[i]].astype('str'))\n",
    "    \n",
    "    \n",
    "df.to_csv(\"G:/redcarpet/f.csv\")   \n",
    "print(\"done\")"
   ]
  },
  {
   "cell_type": "code",
   "execution_count": 80,
   "metadata": {},
   "outputs": [],
   "source": []
  },
  {
   "cell_type": "code",
   "execution_count": null,
   "metadata": {},
   "outputs": [],
   "source": []
  }
 ],
 "metadata": {
  "kernelspec": {
   "display_name": "Python 3",
   "language": "python",
   "name": "python3"
  },
  "language_info": {
   "codemirror_mode": {
    "name": "ipython",
    "version": 3
   },
   "file_extension": ".py",
   "mimetype": "text/x-python",
   "name": "python",
   "nbconvert_exporter": "python",
   "pygments_lexer": "ipython3",
   "version": "3.6.4"
  }
 },
 "nbformat": 4,
 "nbformat_minor": 2
}
